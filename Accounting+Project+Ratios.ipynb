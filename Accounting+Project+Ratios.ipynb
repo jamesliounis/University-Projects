{
 "cells": [
  {
   "cell_type": "markdown",
   "metadata": {},
   "source": [
    "# Ratios for years 3 and 4"
   ]
  },
  {
   "cell_type": "markdown",
   "metadata": {},
   "source": [
    "## Profitability"
   ]
  },
  {
   "cell_type": "code",
   "execution_count": 1,
   "metadata": {
    "collapsed": true
   },
   "outputs": [],
   "source": [
    "profit_after_taxation_3 = 1318   # Used figures given by Ed\n",
    "profit_after_taxation_4 = 1888"
   ]
  },
  {
   "cell_type": "code",
   "execution_count": 2,
   "metadata": {
    "collapsed": true
   },
   "outputs": [],
   "source": [
    "ordinary_share_capital_3 = 3600\n",
    "revenue_reserves_3 = 3274\n",
    "\n",
    "ordinary_share_capital_4 = 3600\n",
    "revenue_reserves_4 = 4362"
   ]
  },
  {
   "cell_type": "code",
   "execution_count": 4,
   "metadata": {},
   "outputs": [
    {
     "name": "stdout",
     "output_type": "stream",
     "text": [
      "ROSF for year 3 is: 19.17369799243526\n",
      "ROSF for year 4 is: 23.712635016327553\n"
     ]
    }
   ],
   "source": [
    "rosf_3 = profit_after_taxation_3/(ordinary_share_capital_3+revenue_reserves_3)*100\n",
    "rosf_4 = profit_after_taxation_4/(ordinary_share_capital_4+revenue_reserves_4)*100\n",
    "\n",
    "print('ROSF for year 3 is:',rosf_3)\n",
    "print('ROSF for year 4 is:',rosf_4)"
   ]
  },
  {
   "cell_type": "code",
   "execution_count": 7,
   "metadata": {},
   "outputs": [
    {
     "name": "stdout",
     "output_type": "stream",
     "text": [
      "ROCE year 3 is: 9.481668773704172\n",
      "ROCE year 4 is: 11.573354719061701\n"
     ]
    }
   ],
   "source": [
    "nop_3 = 6510-4410  #Gross profit - operating expenses\n",
    "nop_4 = 10792-6174\n",
    "\n",
    "employed_capital_3 = 8600+2418+56+3600+3600+3274+600    # Total assets - current liabilities (in this case nonexistent)\n",
    "employed_capital_4 = 14470+5820+6600+5050+3600+4362\n",
    "\n",
    "roce_3 = nop_3/employed_capital_3*100\n",
    "roce_4 = nop_4/employed_capital_4*100\n",
    "\n",
    "print('ROCE year 3 is:',roce_3)\n",
    "print('ROCE year 4 is:',roce_4)"
   ]
  },
  {
   "cell_type": "code",
   "execution_count": 16,
   "metadata": {},
   "outputs": [
    {
     "name": "stdout",
     "output_type": "stream",
     "text": [
      "Operating Margin Ratio year 3 is: 28.487790946737114\n",
      "Operating Margin Ratio year 4 is: 17.8045515394913\n"
     ]
    }
   ],
   "source": [
    "op_income_3 = 3990     #Used profit before taxation \n",
    "op_income_4 = 3990\n",
    "\n",
    "sales_3 = 14006        # Sales \n",
    "sales_4 = 22410\n",
    "op_margin_3 = op_income_3/sales_3*100\n",
    "op_margin_4 = op_income_4/sales_4*100\n",
    "\n",
    "print('Operating Margin Ratio year 3 is:',op_margin_3)\n",
    "print('Operating Margin Ratio year 4 is:',op_margin_4)"
   ]
  },
  {
   "cell_type": "code",
   "execution_count": 18,
   "metadata": {},
   "outputs": [
    {
     "name": "stdout",
     "output_type": "stream",
     "text": [
      "GPM for year 3 is: 46.48007996572897\n",
      "GPM for year 4 is: 48.15707273538599\n"
     ]
    }
   ],
   "source": [
    "# Gross profit margin: total revenue (gross profit) - COGS / Total revenue\n",
    "\n",
    "total_revenue_3 = 14006    # Used sales figure\n",
    "total_revenue_4 = 22410\n",
    "\n",
    "COGS_3 = 14006-6510    # Used COGS formula Ed gave me: COGS = sales-gross profit\n",
    "COGS_4 = 22410-10792\n",
    "\n",
    "gpm_3 = (total_revenue_3-COGS_3)/total_revenue_3*100\n",
    "gpm_4 = (total_revenue_4-COGS_4)/total_revenue_4*100\n",
    "\n",
    "print('GPM for year 3 is:',gpm_3)\n",
    "print('GPM for year 4 is:',gpm_4)"
   ]
  },
  {
   "cell_type": "markdown",
   "metadata": {},
   "source": [
    "## Efficiency"
   ]
  },
  {
   "cell_type": "code",
   "execution_count": 19,
   "metadata": {},
   "outputs": [
    {
     "name": "stdout",
     "output_type": "stream",
     "text": [
      "ITR for year 3 is: 117.73879402347919\n",
      "ITR for year 4 is: 182.8455844379411\n"
     ]
    }
   ],
   "source": [
    "# Average inventories turnover period: Average inventories held/cost of sales*365\n",
    "\n",
    "inventory_3 = 2418  # Inventory figure for both\n",
    "inventory_4 = 5820\n",
    "\n",
    "ITR_3 = inventory_3/COGS_3*365     # Same COGS as above\n",
    "ITR_4 = inventory_4/COGS_4*365\n",
    "\n",
    "print('ITR for year 3 is:', ITR_3)\n",
    "print('ITR for year 4 is:', ITR_4)"
   ]
  },
  {
   "cell_type": "code",
   "execution_count": 20,
   "metadata": {},
   "outputs": [
    {
     "name": "stdout",
     "output_type": "stream",
     "text": [
      "Average settlement period for trade receivables for year 3 is: 49.04540911038127\n",
      "Average settlement period for trade receivables for year 4 is: 46.54930834448906\n"
     ]
    }
   ],
   "source": [
    "# Receivables ratio: calculated by dividing the net value of credit sales during \n",
    "# a given period by the average accounts receivable during the same period. --> Average settlement period for \n",
    "# trade receivables\n",
    "\n",
    "atr_3 = 1882\n",
    "atr_4 = 2858\n",
    "\n",
    "asptr_3 = atr_3/sales_3*365. # I used the sales figure because it says \"all sales were on credit terms\"\n",
    "asptr_4 = atr_4/sales_4*365\n",
    "\n",
    "print('Average settlement period for trade receivables for year 3 is:', asptr_3)\n",
    "print('Average settlement period for trade receivables for year 4 is:', asptr_4)"
   ]
  },
  {
   "cell_type": "code",
   "execution_count": 21,
   "metadata": {},
   "outputs": [
    {
     "name": "stdout",
     "output_type": "stream",
     "text": [
      "Average settlement period for trade payables for year 3 is: 576.0900783289817\n",
      "Average settlement period for trade payables for year 4 is: 704.8108825481088\n"
     ]
    }
   ],
   "source": [
    "# Average settlement period for trade payables: ATP/Credit purchases*365\n",
    "\n",
    "# Check because result indicates that it's obviously wrong\n",
    "\n",
    "atp_3 = inventory_3   # Used inventory figure \n",
    "atp_4 = inventory_4\n",
    "\n",
    "credit_purchases_3 = 1532   # Used trade creditors figure \n",
    "credit_purchases_4 = 3014\n",
    "\n",
    "asptp_3 = atp_3/credit_purchases_3*365\n",
    "asptp_4 = atp_4/credit_purchases_4*365\n",
    "\n",
    "print('Average settlement period for trade payables for year 3 is:', asptp_3)\n",
    "print('Average settlement period for trade payables for year 4 is:', asptp_4)"
   ]
  },
  {
   "cell_type": "code",
   "execution_count": 23,
   "metadata": {},
   "outputs": [
    {
     "name": "stdout",
     "output_type": "stream",
     "text": [
      "Sales revenue to capital employed ratio for year 3 is: 1.337215963337789\n",
      "Sales revenue to capital employed ratio for year 4 is: 1.5389369592089\n"
     ]
    }
   ],
   "source": [
    "# Sales revenue to capital employed ratio: sales revenue/ (share k + reserves + non-current liabilities)\n",
    "\n",
    "# For capital used ordinary share capital, for non-current used bank loan\n",
    "\n",
    "srce_3 = sales_3/(ordinary_share_capital_3+revenue_reserves_3+3600)\n",
    "srce_4 = sales_4/(ordinary_share_capital_4+revenue_reserves_4+6600)\n",
    "\n",
    "print('Sales revenue to capital employed ratio for year 3 is:', srce_3)\n",
    "print('Sales revenue to capital employed ratio for year 4 is:', srce_4)"
   ]
  },
  {
   "cell_type": "markdown",
   "metadata": {},
   "source": [
    "## Liquidity"
   ]
  },
  {
   "cell_type": "code",
   "execution_count": 24,
   "metadata": {},
   "outputs": [
    {
     "name": "stdout",
     "output_type": "stream",
     "text": [
      "Acid test ratio for year 3 is: 0.7808219178082192\n",
      "Acid test ratio for year 4 is: 0.3334884803351175\n"
     ]
    }
   ],
   "source": [
    "# Acid test ratio: current assets (excluding inventories)/current liabilities\n",
    "\n",
    "ca_without_inventories_3 = 1882+56 # Trade debtors + cash at bank\n",
    "ca_without_inventories_4 = 2858+8\n",
    "\n",
    "current_liabilities_3 = 600+1532+350    # Added all values from the current liabilities part\n",
    "current_liabilities_4 = 5050+3014+530\n",
    "\n",
    "atr_3 = ca_without_inventories_3/current_liabilities_3\n",
    "atr_4 = ca_without_inventories_4/current_liabilities_4\n",
    "\n",
    "print('Acid test ratio for year 3 is:', atr_3)\n",
    "print('Acid test ratio for year 4 is:', atr_4)"
   ]
  },
  {
   "cell_type": "code",
   "execution_count": 26,
   "metadata": {},
   "outputs": [
    {
     "name": "stdout",
     "output_type": "stream",
     "text": [
      "Cash generated from ops to maturing obl year 3: 0.0\n",
      "Cash generated from ops to maturing obl year 4: 0.0\n"
     ]
    }
   ],
   "source": [
    "# Cash generated from operations to maturing obligations: cash generated from operations/current liabilities\n",
    "\n",
    "cash_generated_from_operations_3 = 0     # Couldn't find this figure in the cash flow\n",
    "cash_generated_from_operations_4 = 0\n",
    "\n",
    "cgfotmo_3 = cash_generated_from_operations_3/current_liabilities_3\n",
    "cgfotmo_4 = cash_generated_from_operations_4/current_liabilities_4\n",
    "\n",
    "print('Cash generated from ops to maturing obl year 3:', cgfotmo_3)\n",
    "print('Cash generated from ops to maturing obl year 4:', cgfotmo_4)"
   ]
  },
  {
   "cell_type": "markdown",
   "metadata": {},
   "source": [
    "## Gearing"
   ]
  },
  {
   "cell_type": "code",
   "execution_count": 27,
   "metadata": {},
   "outputs": [
    {
     "name": "stdout",
     "output_type": "stream",
     "text": [
      "Gearing ratio for year 3 is: 34.3708229902616\n",
      "Gearing ratio for year 4 is: 45.323444581788216\n"
     ]
    }
   ],
   "source": [
    "# Gearing ratio: non-current liabilities/share capital+reserves+non current liabilities*100\n",
    "\n",
    "ncl_3 = 3600\n",
    "ncl_4 = 6600\n",
    "\n",
    "gr_3 = ncl_3/(ordinary_share_capital_3+revenue_reserves_3+ncl_3)*100\n",
    "gr_4 = ncl_4/(ordinary_share_capital_4+revenue_reserves_4+ncl_4)*100\n",
    "\n",
    "print('Gearing ratio for year 3 is:', gr_3)\n",
    "print('Gearing ratio for year 4 is:', gr_4)"
   ]
  },
  {
   "cell_type": "code",
   "execution_count": 28,
   "metadata": {},
   "outputs": [
    {
     "name": "stdout",
     "output_type": "stream",
     "text": [
      "Interest cover ratio for year 3 is: 3.050925925925926\n",
      "Interest cover ratio for year 4 is: 0.8581818181818182\n"
     ]
    }
   ],
   "source": [
    "# Interest cover ratio: operating profit/interest payable\n",
    "\n",
    "# Not sure if I have to use operating profit before or after taxation\n",
    "\n",
    "int_payable_3 = 432\n",
    "int_payable_4 = 2200\n",
    "\n",
    "icr_3 = profit_after_taxation_3/int_payable_3\n",
    "icr_4 = profit_after_taxation_4/int_payable_4\n",
    "\n",
    "print('Interest cover ratio for year 3 is:', icr_3)\n",
    "print('Interest cover ratio for year 4 is:', icr_4)\n",
    "\n",
    "\n",
    "# Again, looks super weird at least for the first one so check"
   ]
  },
  {
   "cell_type": "markdown",
   "metadata": {},
   "source": [
    "## Investment"
   ]
  },
  {
   "cell_type": "code",
   "execution_count": 32,
   "metadata": {},
   "outputs": [
    {
     "name": "stdout",
     "output_type": "stream",
     "text": [
      "Dividend payout ratio for year 3 is: 100.0\n",
      "Dividend payout ratio for year 4 is: 100.0\n"
     ]
    }
   ],
   "source": [
    "# Dividend payout ratio: dividends announced for the year/earnings for the year available for dividends*100\n",
    "# Didn't know what values to use\n",
    "\n",
    "dividends_year_3 = 1\n",
    "dividends_year_4 = 1\n",
    "\n",
    "dividend_earnings_3 = 1\n",
    "dividend_earnings_4 = 1\n",
    "\n",
    "dpr_3 = dividends_year_3/dividend_earnings_3*100\n",
    "dpr_4 = dividends_year_4/dividend_earnings_4*100\n",
    "\n",
    "print('Dividend payout ratio for year 3 is:', dpr_3)\n",
    "print('Dividend payout ratio for year 4 is:', dpr_4)"
   ]
  },
  {
   "cell_type": "code",
   "execution_count": 33,
   "metadata": {},
   "outputs": [
    {
     "name": "stdout",
     "output_type": "stream",
     "text": [
      "Dividend cover ratio for year 3 is: 1.0\n",
      "Dividend cover ratio for year 4 is: 1.0\n"
     ]
    }
   ],
   "source": [
    "# Dividend cover ratio: earnings available for dividends/dividends announced\n",
    "\n",
    "dcr_3 = dividend_earnings_3/dividends_year_3\n",
    "dcr_4 = dividend_earnings_4/dividends_year_4\n",
    "\n",
    "print('Dividend cover ratio for year 3 is:', dcr_3)\n",
    "print('Dividend cover ratio for year 4 is:', dcr_4)\n",
    "\n"
   ]
  },
  {
   "cell_type": "code",
   "execution_count": 35,
   "metadata": {},
   "outputs": [
    {
     "name": "stdout",
     "output_type": "stream",
     "text": [
      "Earnings per share for year 3 is: 1.0\n",
      "Earnings per share for year 4 is: 1.0\n"
     ]
    }
   ],
   "source": [
    "# Earnings per share: earnings available to ordinary shareholders/number of ordinary shares in issue\n",
    "\n",
    "earnings_available_to_ordinary_shareholders_3 = 1\n",
    "earnings_available_to_ordinary_shareholders_4 = 1\n",
    "\n",
    "ordinary_shares_in_issue_3 = 1\n",
    "ordinary_shares_in_issue_4 = 1\n",
    "\n",
    "eps_3 = earnings_available_to_ordinary_shareholders_3/ordinary_shares_in_issue_3\n",
    "eps_4 = earnings_available_to_ordinary_shareholders_4/ordinary_shares_in_issue_4\n",
    "\n",
    "print('Earnings per share for year 3 is:', eps_3)\n",
    "print('Earnings per share for year 4 is:', eps_4)"
   ]
  }
 ],
 "metadata": {
  "kernelspec": {
   "display_name": "Python 3",
   "language": "python",
   "name": "python3"
  },
  "language_info": {
   "codemirror_mode": {
    "name": "ipython",
    "version": 3
   },
   "file_extension": ".py",
   "mimetype": "text/x-python",
   "name": "python",
   "nbconvert_exporter": "python",
   "pygments_lexer": "ipython3",
   "version": "3.6.3"
  },
  "toc": {
   "nav_menu": {},
   "number_sections": true,
   "sideBar": true,
   "skip_h1_title": false,
   "title_cell": "Table of Contents",
   "title_sidebar": "Contents",
   "toc_cell": false,
   "toc_position": {},
   "toc_section_display": true,
   "toc_window_display": false
  },
  "varInspector": {
   "cols": {
    "lenName": 16,
    "lenType": 16,
    "lenVar": 40
   },
   "kernels_config": {
    "python": {
     "delete_cmd_postfix": "",
     "delete_cmd_prefix": "del ",
     "library": "var_list.py",
     "varRefreshCmd": "print(var_dic_list())"
    },
    "r": {
     "delete_cmd_postfix": ") ",
     "delete_cmd_prefix": "rm(",
     "library": "var_list.r",
     "varRefreshCmd": "cat(var_dic_list()) "
    }
   },
   "types_to_exclude": [
    "module",
    "function",
    "builtin_function_or_method",
    "instance",
    "_Feature"
   ],
   "window_display": false
  }
 },
 "nbformat": 4,
 "nbformat_minor": 2
}
